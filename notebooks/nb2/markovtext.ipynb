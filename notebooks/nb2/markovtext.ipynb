{
 "cells": [
  {
   "cell_type": "code",
   "execution_count": 27,
   "metadata": {},
   "outputs": [],
   "source": [
    "import collections\n",
    "import numpy as np\n",
    "\n",
    "with open(\"assets/alice_oz.txt\", 'r') as f:\n",
    "    text = f.readline()\n",
    "splitText = text.split()\n",
    "\n",
    "NPREF = 2\n",
    "NONWORD = \"\\n\"\n",
    "MAXGEN = 200\n",
    "\n",
    "class Prefix:\n",
    "    \n",
    "    def __init__(self, n, string):\n",
    "        self.__multiplier = 31\n",
    "        self.p = collections.deque()\n",
    "        \n",
    "        for i in range(n):\n",
    "            self.p.append(string)\n",
    "        \n",
    "    def __hash__(self):\n",
    "        h = 0\n",
    "        for i in range(len(self.p)):\n",
    "            h = self.__multiplier * h + hash(self.p[i])\n",
    "        return h\n",
    "    \n",
    "    def __eq__(self, other):\n",
    "        for i in range(len(self.p)):\n",
    "            if (self.p[i] != other.p[i]):\n",
    "                return False\n",
    "        return True\n",
    "    \n",
    "    def clone(self):\n",
    "        copyP = self.p.copy()\n",
    "        copy = Prefix(NPREF, NONWORD)\n",
    "        copy.p = copyP\n",
    "        return copy\n",
    "    \n",
    "class Chain:\n",
    "    def __init__(self, NPREF = 2, NONWORD = \"\\n\", MAXGEN = 200):\n",
    "        # map<Prefix, vector<string>>\n",
    "        self.statetab = {}\n",
    "        self.NPREF = NPREF\n",
    "        self.NONWORD = NONWORD\n",
    "        self.MAXGEN = MAXGEN\n",
    "        \n",
    "        self.prefix = Prefix(self.NPREF, self.NONWORD)\n",
    "\n",
    "    def add(self, string):\n",
    "        suf =  self.statetab.get(self.prefix)\n",
    "        if not suf:\n",
    "            suf = []\n",
    "            self.statetab[self.prefix.clone()] = suf\n",
    "            \n",
    "        suf.append(string)\n",
    "        self.prefix.p.popleft()\n",
    "        self.prefix.p.append(string)\n",
    "        \n",
    "\n",
    "    def build(self, inStream):\n",
    "        for i in inStream:\n",
    "            self.add(i)\n",
    "        self.add(self.NONWORD)\n",
    "\n",
    "    def generate(self, nwords):\n",
    "        chain = []\n",
    "        new = Prefix(self.NPREF, self.NONWORD)\n",
    "        for i in range(0, nwords):\n",
    "            s = self.statetab.get(new)\n",
    "            \n",
    "            if not s:\n",
    "                return \"No state\"\n",
    "\n",
    "            r = np.random.randint(0, 9999999999) % len(s)\n",
    "            word = s[r]\n",
    "\n",
    "            if word == self.NONWORD:\n",
    "                break;\n",
    "            chain.append(word)\n",
    "            new.p.popleft()\n",
    "            new.p.append(word)\n",
    "        return chain"
   ]
  },
  {
   "cell_type": "code",
   "execution_count": 56,
   "metadata": {},
   "outputs": [],
   "source": [
    "c = Chain()\n",
    "c.build(splitText)"
   ]
  },
  {
   "cell_type": "code",
   "execution_count": 59,
   "metadata": {},
   "outputs": [
    {
     "data": {
      "text/plain": [
       "\"Alice was only sobbing,' she thought, 'and hand round the neck of the West; and that kind of you must all serve him, and very soon finished it off. 'If\""
      ]
     },
     "execution_count": 59,
     "metadata": {},
     "output_type": "execute_result"
    }
   ],
   "source": [
    "' '.join(c.generate(30))"
   ]
  },
  {
   "cell_type": "markdown",
   "metadata": {},
   "source": [
    "-----"
   ]
  },
  {
   "cell_type": "code",
   "execution_count": 37,
   "metadata": {},
   "outputs": [],
   "source": [
    "import pandas as pd\n",
    "df = pd.read_csv('assets/bach_choral_set_dataset.csv')"
   ]
  },
  {
   "cell_type": "code",
   "execution_count": 38,
   "metadata": {},
   "outputs": [
    {
     "data": {
      "text/plain": [
       "array(['000106b_', '000206b_', '000306b_', '000408b_', '000507b_',\n",
       "       '000606b_', '000707b_', '000907b_', '001007b_', '001106b_',\n",
       "       '001207b_', '001306b_', '001606b_', '001707b_', '001805b_',\n",
       "       '001907ch', '002406bs', '002506b_', '002806b_', '002908ch',\n",
       "       '003006b_', '003109b_', '003206b_', '003306b_', '003608b2',\n",
       "       '003806b_', '003907b_', '003907bv', '004006b_', '004008b_',\n",
       "       '005708b_', '012006b_', '012106b_', '012206b_', '012306b_',\n",
       "       '012406b_', '012506b_', '012606b_', '012606bv', '012705b_',\n",
       "       '012805b_', '013506b_', '013705ch', '013906b_', '014007b_',\n",
       "       '014403b_', '014406b_', '014500ba', '014505b_', '014505bv',\n",
       "       '014608b_', '014806b_', '014806bv', '015105b_', '015301b_',\n",
       "       '015305b_', '015309b_', '015403b_', '015408b_', '015505b_'],\n",
       "      dtype=object)"
      ]
     },
     "execution_count": 38,
     "metadata": {},
     "output_type": "execute_result"
    }
   ],
   "source": [
    "df['choral_ID'].unique()"
   ]
  },
  {
   "cell_type": "code",
   "execution_count": 50,
   "metadata": {},
   "outputs": [
    {
     "data": {
      "text/html": [
       "<div>\n",
       "<style scoped>\n",
       "    .dataframe tbody tr th:only-of-type {\n",
       "        vertical-align: middle;\n",
       "    }\n",
       "\n",
       "    .dataframe tbody tr th {\n",
       "        vertical-align: top;\n",
       "    }\n",
       "\n",
       "    .dataframe thead th {\n",
       "        text-align: right;\n",
       "    }\n",
       "</style>\n",
       "<table border=\"1\" class=\"dataframe\">\n",
       "  <thead>\n",
       "    <tr style=\"text-align: right;\">\n",
       "      <th></th>\n",
       "      <th>choral_ID</th>\n",
       "      <th>event_number</th>\n",
       "      <th>pitch_1</th>\n",
       "      <th>pitch_2</th>\n",
       "      <th>pitch_3</th>\n",
       "      <th>pitch_4</th>\n",
       "      <th>pitch_5</th>\n",
       "      <th>pitch_6</th>\n",
       "      <th>pitch_7</th>\n",
       "      <th>pitch_8</th>\n",
       "      <th>pitch_9</th>\n",
       "      <th>pitch_10</th>\n",
       "      <th>pitch_11</th>\n",
       "      <th>pitch_12</th>\n",
       "      <th>bass</th>\n",
       "      <th>meter</th>\n",
       "      <th>chord_label</th>\n",
       "    </tr>\n",
       "  </thead>\n",
       "  <tbody>\n",
       "    <tr>\n",
       "      <th>5556</th>\n",
       "      <td>015505b_</td>\n",
       "      <td>1</td>\n",
       "      <td>YES</td>\n",
       "      <td>NO</td>\n",
       "      <td>NO</td>\n",
       "      <td>NO</td>\n",
       "      <td>NO</td>\n",
       "      <td>YES</td>\n",
       "      <td>NO</td>\n",
       "      <td>NO</td>\n",
       "      <td>NO</td>\n",
       "      <td>YES</td>\n",
       "      <td>NO</td>\n",
       "      <td>NO</td>\n",
       "      <td>F</td>\n",
       "      <td>5</td>\n",
       "      <td>F_M</td>\n",
       "    </tr>\n",
       "    <tr>\n",
       "      <th>5557</th>\n",
       "      <td>015505b_</td>\n",
       "      <td>2</td>\n",
       "      <td>YES</td>\n",
       "      <td>NO</td>\n",
       "      <td>NO</td>\n",
       "      <td>NO</td>\n",
       "      <td>NO</td>\n",
       "      <td>YES</td>\n",
       "      <td>NO</td>\n",
       "      <td>NO</td>\n",
       "      <td>NO</td>\n",
       "      <td>NO</td>\n",
       "      <td>YES</td>\n",
       "      <td>NO</td>\n",
       "      <td>F</td>\n",
       "      <td>3</td>\n",
       "      <td>F_M</td>\n",
       "    </tr>\n",
       "    <tr>\n",
       "      <th>5558</th>\n",
       "      <td>015505b_</td>\n",
       "      <td>3</td>\n",
       "      <td>YES</td>\n",
       "      <td>NO</td>\n",
       "      <td>NO</td>\n",
       "      <td>NO</td>\n",
       "      <td>NO</td>\n",
       "      <td>YES</td>\n",
       "      <td>NO</td>\n",
       "      <td>NO</td>\n",
       "      <td>NO</td>\n",
       "      <td>YES</td>\n",
       "      <td>NO</td>\n",
       "      <td>NO</td>\n",
       "      <td>A</td>\n",
       "      <td>4</td>\n",
       "      <td>F_M</td>\n",
       "    </tr>\n",
       "    <tr>\n",
       "      <th>5559</th>\n",
       "      <td>015505b_</td>\n",
       "      <td>4</td>\n",
       "      <td>YES</td>\n",
       "      <td>NO</td>\n",
       "      <td>YES</td>\n",
       "      <td>NO</td>\n",
       "      <td>NO</td>\n",
       "      <td>YES</td>\n",
       "      <td>NO</td>\n",
       "      <td>NO</td>\n",
       "      <td>NO</td>\n",
       "      <td>NO</td>\n",
       "      <td>YES</td>\n",
       "      <td>NO</td>\n",
       "      <td>Bb</td>\n",
       "      <td>3</td>\n",
       "      <td>F_M</td>\n",
       "    </tr>\n",
       "    <tr>\n",
       "      <th>5560</th>\n",
       "      <td>015505b_</td>\n",
       "      <td>5</td>\n",
       "      <td>YES</td>\n",
       "      <td>NO</td>\n",
       "      <td>NO</td>\n",
       "      <td>NO</td>\n",
       "      <td>YES</td>\n",
       "      <td>NO</td>\n",
       "      <td>NO</td>\n",
       "      <td>NO</td>\n",
       "      <td>NO</td>\n",
       "      <td>NO</td>\n",
       "      <td>NO</td>\n",
       "      <td>NO</td>\n",
       "      <td>C</td>\n",
       "      <td>5</td>\n",
       "      <td>C_M</td>\n",
       "    </tr>\n",
       "  </tbody>\n",
       "</table>\n",
       "</div>"
      ],
      "text/plain": [
       "     choral_ID  event_number pitch_1 pitch_2 pitch_3 pitch_4 pitch_5 pitch_6  \\\n",
       "5556  015505b_             1     YES      NO      NO      NO      NO     YES   \n",
       "5557  015505b_             2     YES      NO      NO      NO      NO     YES   \n",
       "5558  015505b_             3     YES      NO      NO      NO      NO     YES   \n",
       "5559  015505b_             4     YES      NO     YES      NO      NO     YES   \n",
       "5560  015505b_             5     YES      NO      NO      NO     YES      NO   \n",
       "\n",
       "     pitch_7 pitch_8 pitch_9 pitch_10 pitch_11 pitch_12 bass  meter  \\\n",
       "5556      NO      NO      NO      YES       NO       NO    F      5   \n",
       "5557      NO      NO      NO       NO      YES       NO    F      3   \n",
       "5558      NO      NO      NO      YES       NO       NO    A      4   \n",
       "5559      NO      NO      NO       NO      YES       NO   Bb      3   \n",
       "5560      NO      NO      NO       NO       NO       NO    C      5   \n",
       "\n",
       "     chord_label  \n",
       "5556         F_M  \n",
       "5557         F_M  \n",
       "5558         F_M  \n",
       "5559         F_M  \n",
       "5560         C_M  "
      ]
     },
     "execution_count": 50,
     "metadata": {},
     "output_type": "execute_result"
    }
   ],
   "source": [
    "first = df[df['choral_ID'] == '015505b_']\n",
    "first.head()"
   ]
  },
  {
   "cell_type": "code",
   "execution_count": 51,
   "metadata": {},
   "outputs": [],
   "source": [
    "bach_chain = Chain()\n",
    "bach_chain.build(first['chord_label'])"
   ]
  },
  {
   "cell_type": "code",
   "execution_count": 44,
   "metadata": {},
   "outputs": [],
   "source": [
    "f1 = bach_chain.statetab"
   ]
  },
  {
   "cell_type": "code",
   "execution_count": 52,
   "metadata": {},
   "outputs": [],
   "source": [
    "second = df[df['choral_ID'] == '000306b_']\n",
    "bach_chain.build(second['chord_label'])"
   ]
  },
  {
   "cell_type": "code",
   "execution_count": 53,
   "metadata": {},
   "outputs": [],
   "source": [
    "f2 = bach_chain.statetab"
   ]
  },
  {
   "cell_type": "code",
   "execution_count": 54,
   "metadata": {},
   "outputs": [
    {
     "data": {
      "text/plain": [
       "False"
      ]
     },
     "execution_count": 54,
     "metadata": {},
     "output_type": "execute_result"
    }
   ],
   "source": [
    "f1 == f2"
   ]
  },
  {
   "cell_type": "code",
   "execution_count": null,
   "metadata": {},
   "outputs": [],
   "source": []
  }
 ],
 "metadata": {
  "kernelspec": {
   "display_name": "Python 3",
   "language": "python",
   "name": "python3"
  },
  "language_info": {
   "codemirror_mode": {
    "name": "ipython",
    "version": 3
   },
   "file_extension": ".py",
   "mimetype": "text/x-python",
   "name": "python",
   "nbconvert_exporter": "python",
   "pygments_lexer": "ipython3",
   "version": "3.7.3"
  }
 },
 "nbformat": 4,
 "nbformat_minor": 4
}
