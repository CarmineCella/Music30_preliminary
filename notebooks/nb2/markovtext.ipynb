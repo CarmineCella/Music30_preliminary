{
 "cells": [
  {
   "cell_type": "code",
   "execution_count": 55,
   "metadata": {},
   "outputs": [],
   "source": [
    "import collections\n",
    "import numpy as np\n",
    "\n",
    "with open(\"assets/alice_oz.txt\", 'r') as f:\n",
    "    text = f.readline()\n",
    "splitText = text.split()\n",
    "\n",
    "NPREF = 2\n",
    "NONWORD = \"\\n\"\n",
    "MAXGEN = 200\n",
    "\n",
    "class Prefix:\n",
    "    \n",
    "    def __init__(self, n, string):\n",
    "        self.__multiplier = 31\n",
    "        self.p = collections.deque()\n",
    "        \n",
    "        for i in range(n):\n",
    "            self.p.append(string)\n",
    "        \n",
    "    def __hash__(self):\n",
    "        h = 0\n",
    "        for i in range(len(self.p)):\n",
    "            h = self.__multiplier * h + hash(self.p[i])\n",
    "        return h\n",
    "    \n",
    "    def __eq__(self, other):\n",
    "        for i in range(len(self.p)):\n",
    "            if (self.p[i] != other.p[i]):\n",
    "                return False\n",
    "        return True\n",
    "    \n",
    "    def clone(self):\n",
    "        copyP = self.p.copy()\n",
    "        copy = Prefix(NPREF, NONWORD)\n",
    "        copy.p = copyP\n",
    "        return copy\n",
    "    \n",
    "class Chain:\n",
    "    \n",
    "    def __init__(self):\n",
    "        # map<Prefix, vector<string>>\n",
    "        self.statetab = {}\n",
    "        \n",
    "        self.prefix = Prefix(NPREF, NONWORD)\n",
    "\n",
    "    def add(self, string):\n",
    "        suf =  self.statetab.get(self.prefix)\n",
    "        if not suf:\n",
    "            suf = []\n",
    "            self.statetab[self.prefix.clone()] = suf\n",
    "            \n",
    "        suf.append(string)\n",
    "        self.prefix.p.popleft()\n",
    "        self.prefix.p.append(string)\n",
    "        \n",
    "\n",
    "    def build(self, inStream):\n",
    "        for i in inStream:\n",
    "            self.add(i)\n",
    "        self.add(NONWORD)\n",
    "\n",
    "    def generate(self, nwords):\n",
    "        chain = []\n",
    "        new = Prefix(NPREF, NONWORD)\n",
    "        for i in range(0, nwords):\n",
    "            s = self.statetab.get(new)\n",
    "            \n",
    "            if not s:\n",
    "                return \"No state\"\n",
    "\n",
    "            r = np.random.randint(0, 9999999999) % len(s)\n",
    "            word = s[r]\n",
    "\n",
    "            if word == NONWORD:\n",
    "                break;\n",
    "            chain.append(word)\n",
    "            new.p.popleft()\n",
    "            new.p.append(word)\n",
    "        return chain"
   ]
  },
  {
   "cell_type": "code",
   "execution_count": 56,
   "metadata": {},
   "outputs": [],
   "source": [
    "c = Chain()\n",
    "c.build(splitText)"
   ]
  },
  {
   "cell_type": "code",
   "execution_count": 59,
   "metadata": {},
   "outputs": [
    {
     "data": {
      "text/plain": [
       "\"Alice was only sobbing,' she thought, 'and hand round the neck of the West; and that kind of you must all serve him, and very soon finished it off. 'If\""
      ]
     },
     "execution_count": 59,
     "metadata": {},
     "output_type": "execute_result"
    }
   ],
   "source": [
    "' '.join(c.generate(30))"
   ]
  },
  {
   "cell_type": "markdown",
   "metadata": {},
   "source": [
    "-----"
   ]
  },
  {
   "cell_type": "code",
   "execution_count": null,
   "metadata": {},
   "outputs": [],
   "source": []
  }
 ],
 "metadata": {
  "kernelspec": {
   "display_name": "Python 3",
   "language": "python",
   "name": "python3"
  },
  "language_info": {
   "codemirror_mode": {
    "name": "ipython",
    "version": 3
   },
   "file_extension": ".py",
   "mimetype": "text/x-python",
   "name": "python",
   "nbconvert_exporter": "python",
   "pygments_lexer": "ipython3",
   "version": "3.7.3"
  }
 },
 "nbformat": 4,
 "nbformat_minor": 4
}
