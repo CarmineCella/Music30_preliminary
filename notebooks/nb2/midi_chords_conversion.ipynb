{
 "cells": [
  {
   "cell_type": "code",
   "execution_count": 1,
   "metadata": {},
   "outputs": [],
   "source": [
    "from midiutil import MIDIFile"
   ]
  },
  {
   "cell_type": "code",
   "execution_count": 2,
   "metadata": {},
   "outputs": [],
   "source": [
    "MIDI = MIDIFile(0)"
   ]
  },
  {
   "cell_type": "code",
   "execution_count": 3,
   "metadata": {},
   "outputs": [],
   "source": [
    "def addNote(pitch, track=0, channel=0, time=0, duration=1, volume=80):\n",
    "    MIDI.addNote(track, channel, pitch, time, duration, volume)"
   ]
  },
  {
   "cell_type": "code",
   "execution_count": 4,
   "metadata": {},
   "outputs": [],
   "source": [
    "track = 0\n",
    "channel = 0\n",
    "time = 0 \n",
    "duration = 1\n",
    "tempo = 60\n",
    "volume = 100"
   ]
  },
  {
   "cell_type": "markdown",
   "metadata": {},
   "source": [
    "Data dictionary to convert the pitch number to MIDI note number - based on the bach choral dataset."
   ]
  },
  {
   "cell_type": "code",
   "execution_count": 82,
   "metadata": {},
   "outputs": [],
   "source": [
    "# key = pitch\n",
    "# value = MIDI note number\n",
    "midi_note_converter = {1:60,\n",
    "             2:61,\n",
    "             3:62,\n",
    "             4:63,\n",
    "             5:64,\n",
    "             6:65,\n",
    "             7:66,\n",
    "             8:67,\n",
    "             9:68,\n",
    "             10:69,\n",
    "             11:70,\n",
    "             12:71}"
   ]
  },
  {
   "cell_type": "code",
   "execution_count": 83,
   "metadata": {},
   "outputs": [],
   "source": [
    "# Takes in a list of the pitch values from 1-12 and returns the converted MIDI note numbers\n",
    "def get_midi_notes(pitch_values):\n",
    "    a = []\n",
    "    for i in pitch_values:\n",
    "        a.append(midi_note[i])\n",
    "    return a"
   ]
  },
  {
   "cell_type": "code",
   "execution_count": 84,
   "metadata": {},
   "outputs": [],
   "source": [
    "pitch_values = {\"F_m\":[1, 6, 11],\n",
    "\"F_m7\":[1, 4, 8, 10],\n",
    "\"Bbm6\":[2, 6, 8, 11],\n",
    "\"AbM\":[1, 4, 9],\n",
    "\"DbM\":[2, 6, 9],\n",
    "'C#m':[2, 4, 5, 9],\n",
    "\"F#M7\":[2, 5, 7, 11],\n",
    "\"B_m\":[3, 7, 8, 12],\n",
    "\"F#M\":[2, 7, 11],\n",
    "\"E_M7\":[3, 5, 7, 10],\n",
    "\"A_M\":[2, 5, 10],\n",
    "\"D_M\":[3, 7, 10],\n",
    "\"G_M\":[3, 8, 12],\n",
    "\"C_M\":[1, 5, 8]}"
   ]
  },
  {
   "cell_type": "code",
   "execution_count": 85,
   "metadata": {},
   "outputs": [],
   "source": [
    "# Convert the pitch values to their midi note numbers\n",
    "for i in pitch_values:\n",
    "    pitch_values[i] = get_midi_notes(pitch_values[i])"
   ]
  },
  {
   "cell_type": "code",
   "execution_count": 86,
   "metadata": {},
   "outputs": [
    {
     "data": {
      "text/plain": [
       "{'F_m': [60, 65, 70],\n",
       " 'F_m7': [60, 63, 67, 69],\n",
       " 'Bbm6': [61, 65, 67, 70],\n",
       " 'AbM': [60, 63, 68],\n",
       " 'DbM': [61, 65, 68],\n",
       " 'C#m': [61, 63, 64, 68],\n",
       " 'F#M7': [61, 64, 66, 70],\n",
       " 'B_m': [62, 66, 67, 71],\n",
       " 'F#M': [61, 66, 70],\n",
       " 'E_M7': [62, 64, 66, 69],\n",
       " 'A_M': [61, 64, 69],\n",
       " 'D_M': [62, 66, 69],\n",
       " 'G_M': [62, 67, 71],\n",
       " 'C_M': [60, 64, 67]}"
      ]
     },
     "execution_count": 86,
     "metadata": {},
     "output_type": "execute_result"
    }
   ],
   "source": [
    "midi_numbers = pitch_values\n",
    "midi_numbers"
   ]
  },
  {
   "cell_type": "code",
   "execution_count": 87,
   "metadata": {},
   "outputs": [],
   "source": [
    "# Chords generated from Mikayla's code\n",
    "generated_chord_sequence = ['C_M',\n",
    " 'F_m',\n",
    " 'F_m7',\n",
    " 'Bbm6',\n",
    " 'Bbm6',\n",
    " 'Bbm6',\n",
    " 'Bbm6',\n",
    " 'AbM',\n",
    " 'DbM',\n",
    " 'Bbm6',\n",
    " 'Bbm6',\n",
    " 'AbM',\n",
    " 'C#m',\n",
    " 'C#m',\n",
    " 'C#m',\n",
    " 'C#m',\n",
    " 'F#M7',\n",
    " 'F#M7',\n",
    " 'F#M7',\n",
    " 'B_m',\n",
    " 'F#M',\n",
    " 'F#M',\n",
    " 'F#M',\n",
    " 'F#M',\n",
    " 'B_m',\n",
    " 'E_M7',\n",
    " 'A_M',\n",
    " 'D_M',\n",
    " 'G_M',\n",
    " 'C_M']"
   ]
  },
  {
   "cell_type": "code",
   "execution_count": 92,
   "metadata": {},
   "outputs": [
    {
     "data": {
      "text/plain": [
       "[[60, 64, 67],\n",
       " [60, 65, 70],\n",
       " [60, 63, 67, 69],\n",
       " [61, 65, 67, 70],\n",
       " [61, 65, 67, 70],\n",
       " [61, 65, 67, 70],\n",
       " [61, 65, 67, 70],\n",
       " [60, 63, 68],\n",
       " [61, 65, 68],\n",
       " [61, 65, 67, 70],\n",
       " [61, 65, 67, 70],\n",
       " [60, 63, 68],\n",
       " [61, 63, 64, 68],\n",
       " [61, 63, 64, 68],\n",
       " [61, 63, 64, 68],\n",
       " [61, 63, 64, 68],\n",
       " [61, 64, 66, 70],\n",
       " [61, 64, 66, 70],\n",
       " [61, 64, 66, 70],\n",
       " [62, 66, 67, 71],\n",
       " [61, 66, 70],\n",
       " [61, 66, 70],\n",
       " [61, 66, 70],\n",
       " [61, 66, 70],\n",
       " [62, 66, 67, 71],\n",
       " [62, 64, 66, 69],\n",
       " [61, 64, 69],\n",
       " [62, 66, 69],\n",
       " [62, 67, 71],\n",
       " [60, 64, 67]]"
      ]
     },
     "execution_count": 92,
     "metadata": {},
     "output_type": "execute_result"
    }
   ],
   "source": [
    "# Sanity check to see if the generated chord sequence (and pitch values) were properly converted\n",
    "def midi_numbers_list():\n",
    "    a = []\n",
    "    for i in generated_chord_sequence:\n",
    "        a.append(midi_numbers[i])\n",
    "    return a\n",
    "midi_numbers_final = midi_numbers_list()\n",
    "midi_numbers_final"
   ]
  },
  {
   "cell_type": "code",
   "execution_count": 94,
   "metadata": {},
   "outputs": [],
   "source": [
    "for i in midi_numbers_final:\n",
    "    addNote(i)"
   ]
  },
  {
   "cell_type": "code",
   "execution_count": 95,
   "metadata": {},
   "outputs": [],
   "source": [
    "with open(\"MIDI\", 'wb') as output_file:\n",
    "    MIDI.writeFile(output_file)"
   ]
  },
  {
   "cell_type": "code",
   "execution_count": null,
   "metadata": {},
   "outputs": [],
   "source": []
  }
 ],
 "metadata": {
  "kernelspec": {
   "display_name": "Python 3",
   "language": "python",
   "name": "python3"
  },
  "language_info": {
   "codemirror_mode": {
    "name": "ipython",
    "version": 3
   },
   "file_extension": ".py",
   "mimetype": "text/x-python",
   "name": "python",
   "nbconvert_exporter": "python",
   "pygments_lexer": "ipython3",
   "version": "3.8.3"
  }
 },
 "nbformat": 4,
 "nbformat_minor": 4
}
