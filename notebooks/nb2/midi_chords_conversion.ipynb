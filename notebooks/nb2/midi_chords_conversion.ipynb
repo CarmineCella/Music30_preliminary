{
 "cells": [
  {
   "cell_type": "code",
   "execution_count": 1,
   "metadata": {
    "scrolled": true
   },
   "outputs": [],
   "source": [
    "# !pip install midiutil"
   ]
  },
  {
   "cell_type": "code",
   "execution_count": 1,
   "metadata": {},
   "outputs": [],
   "source": [
    "from midiutil import MIDIFile"
   ]
  },
  {
   "cell_type": "code",
   "execution_count": 2,
   "metadata": {},
   "outputs": [],
   "source": [
    "track = 0\n",
    "channel = 0\n",
    "time = 0 \n",
    "duration = 1\n",
    "tempo = 60\n",
    "volume = 100"
   ]
  },
  {
   "cell_type": "code",
   "execution_count": 3,
   "metadata": {},
   "outputs": [],
   "source": [
    "def addNote(pitch, track=0, channel=0, time=0, duration=1, volume=80):\n",
    "    MIDI.addNote(track, channel, pitch, time, duration, volume)"
   ]
  },
  {
   "cell_type": "code",
   "execution_count": 4,
   "metadata": {},
   "outputs": [],
   "source": [
    "MIDI = MIDIFile(1)\n",
    "MIDI.addTempo(track, time, tempo)"
   ]
  },
  {
   "cell_type": "markdown",
   "metadata": {},
   "source": [
    "Data dictionary to convert the pitch number to MIDI note number - based on the bach choral dataset."
   ]
  },
  {
   "cell_type": "code",
   "execution_count": 5,
   "metadata": {},
   "outputs": [],
   "source": [
    "# key = pitch_#\n",
    "# value = MIDI note number\n",
    "midi_note_converter = {'pitch_1':60,\n",
    "             'pitch_2':61,\n",
    "             'pitch_3':62,\n",
    "             'pitch_4':63,\n",
    "             'pitch_5':64,\n",
    "             'pitch_6':65,\n",
    "             'pitch_7':66,\n",
    "             'pitch_8':67,\n",
    "             'pitch_9':68,\n",
    "             'pitch_10':69,\n",
    "             'pitch_11':70,\n",
    "             'pitch_12':71}"
   ]
  },
  {
   "cell_type": "code",
   "execution_count": 6,
   "metadata": {},
   "outputs": [],
   "source": [
    "# Complete pitch_values list for each chord_label in the dataset.\n",
    "\n",
    "pitch_values = {'F_M': ['pitch_1', 'pitch_6', 'pitch_10'],\n",
    " 'C_M': ['pitch_1', 'pitch_5', 'pitch_8'],\n",
    " 'D_m': ['pitch_3', 'pitch_6', 'pitch_10'],\n",
    " 'BbM': ['pitch_3', 'pitch_6', 'pitch_11'],\n",
    " 'C_M7': ['pitch_5', 'pitch_8', 'pitch_10', 'pitch_11'],\n",
    " 'D_m7': ['pitch_1', 'pitch_3', 'pitch_6', 'pitch_10'],\n",
    " 'G_M': ['pitch_3', 'pitch_8', 'pitch_12'],\n",
    " 'A_m': ['pitch_1', 'pitch_5', 'pitch_10'],\n",
    " 'C_M4': ['pitch_1', 'pitch_6', 'pitch_8'],\n",
    " 'G_m': ['pitch_3', 'pitch_8', 'pitch_11'],\n",
    " 'G_M7': ['pitch_3', 'pitch_6', 'pitch_8', 'pitch_12'],\n",
    " 'D_M': ['pitch_3', 'pitch_7', 'pitch_10'],\n",
    " 'F#d': ['pitch_1', 'pitch_7', 'pitch_10'],\n",
    " 'AbM': ['pitch_1', 'pitch_4', 'pitch_9'],\n",
    " 'C#d7': ['pitch_2', 'pitch_5', 'pitch_8', 'pitch_11'],\n",
    " 'D_M7': ['pitch_1', 'pitch_3', 'pitch_7', 'pitch_10'],\n",
    " 'A_M': ['pitch_2', 'pitch_5', 'pitch_10'],\n",
    " 'EbM': ['pitch_4', 'pitch_8', 'pitch_11'],\n",
    " 'F_M7': ['pitch_1', 'pitch_4', 'pitch_8', 'pitch_10'],\n",
    " 'C_m': ['pitch_1', 'pitch_4', 'pitch_8'],\n",
    " 'A_M4': ['pitch_3', 'pitch_5', 'pitch_10'],\n",
    " 'F#m': ['pitch_2', 'pitch_7', 'pitch_10'],\n",
    " 'B_M': ['pitch_4', 'pitch_7', 'pitch_12'],\n",
    " 'E_M': ['pitch_5', 'pitch_9'],\n",
    " 'D#d': ['pitch_4', 'pitch_7', 'pitch_9', 'pitch_10'],\n",
    " 'C#M': ['pitch_2', 'pitch_7', 'pitch_9'],\n",
    " 'F#m7': ['pitch_3', 'pitch_5', 'pitch_9', 'pitch_12'],\n",
    " 'A#d': ['pitch_2', 'pitch_3', 'pitch_5', 'pitch_11'],\n",
    " 'B_m': ['pitch_3', 'pitch_7', 'pitch_12'],\n",
    " 'E_M7': ['pitch_3', 'pitch_5', 'pitch_9'],\n",
    " 'E_m': ['pitch_5', 'pitch_8', 'pitch_12'],\n",
    " 'F#M': ['pitch_2', 'pitch_7', 'pitch_11'],\n",
    " 'F#M7': ['pitch_2', 'pitch_5', 'pitch_7', 'pitch_11'],\n",
    " 'B_M7': ['pitch_4', 'pitch_7', 'pitch_10', 'pitch_12'],\n",
    " 'A_m6': ['pitch_1', 'pitch_5', 'pitch_7', 'pitch_10'],\n",
    " 'C#d': ['pitch_2', 'pitch_5', 'pitch_8'],\n",
    " 'A_m7': ['pitch_1', 'pitch_8', 'pitch_10'],\n",
    " 'A_d': ['pitch_1', 'pitch_4', 'pitch_10'],\n",
    " 'C_m7': ['pitch_1', 'pitch_4', 'pitch_8', 'pitch_11'],\n",
    " 'G_m6': ['pitch_4', 'pitch_8', 'pitch_11'],\n",
    " 'D_M4': ['pitch_3', 'pitch_8', 'pitch_10'],\n",
    " 'G_m7': ['pitch_3', 'pitch_6', 'pitch_8', 'pitch_11'],\n",
    " 'E_m7': ['pitch_3', 'pitch_5', 'pitch_8', 'pitch_12'],\n",
    " 'E_m6': ['pitch_2', 'pitch_5', 'pitch_8', 'pitch_12'],\n",
    " 'A_M7': ['pitch_2', 'pitch_5', 'pitch_8', 'pitch_10'],\n",
    " 'C#m': ['pitch_2', 'pitch_5', 'pitch_9'],\n",
    " 'C#M7': ['pitch_2', 'pitch_6', 'pitch_12'],\n",
    " 'A#d7': ['pitch_2', 'pitch_5', 'pitch_8', 'pitch_12'],\n",
    " 'EbM7': ['pitch_3', 'pitch_4', 'pitch_8'],\n",
    " 'B_m7': ['pitch_3', 'pitch_7', 'pitch_10', 'pitch_12'],\n",
    " 'E_M4': ['pitch_5', 'pitch_10', 'pitch_12'],\n",
    " 'C#m7': ['pitch_2', 'pitch_5', 'pitch_8', 'pitch_12'],\n",
    " 'F_M4': ['pitch_1', 'pitch_6', 'pitch_11'],\n",
    " 'D_m6': ['pitch_3', 'pitch_6', 'pitch_10', 'pitch_12'],\n",
    " 'G#d': ['pitch_3', 'pitch_9', 'pitch_12'],\n",
    " 'G#d7': ['pitch_3', 'pitch_6', 'pitch_9', 'pitch_12'],\n",
    " 'A_m4': ['pitch_3', 'pitch_5', 'pitch_10'],\n",
    " 'D_M6': ['pitch_3', 'pitch_7', 'pitch_10', 'pitch_12'],\n",
    " 'F_d': ['pitch_6', 'pitch_9', 'pitch_12'],\n",
    " 'B_m6': ['pitch_3', 'pitch_7', 'pitch_9', 'pitch_12'],\n",
    " 'B_M4': ['pitch_5', 'pitch_7', 'pitch_12'],\n",
    " 'C_m6': ['pitch_1', 'pitch_4', 'pitch_10'],\n",
    " 'F_m': ['pitch_1', 'pitch_6', 'pitch_9'],\n",
    " 'G_M4': ['pitch_1', 'pitch_3', 'pitch_8'],\n",
    " 'F_m7': ['pitch_4', 'pitch_6', 'pitch_9'],\n",
    " 'C_d6': ['pitch_1', 'pitch_4', 'pitch_7', 'pitch_10'],\n",
    " 'F_m6': ['pitch_1', 'pitch_3', 'pitch_6', 'pitch_9'],\n",
    " 'G_M6': ['pitch_3', 'pitch_5', 'pitch_8'],\n",
    " 'A_M6': ['pitch_2', 'pitch_5', 'pitch_7', 'pitch_10'],\n",
    " 'F_M6': ['pitch_3', 'pitch_6', 'pitch_10'],\n",
    " 'F#M4': ['pitch_2', 'pitch_7', 'pitch_12'],\n",
    " 'B_d7': ['pitch_3', 'pitch_6', 'pitch_8', 'pitch_12'],\n",
    " 'D_d7': ['pitch_3', 'pitch_6', 'pitch_9', 'pitch_12'],\n",
    " 'E_d': ['pitch_5', 'pitch_8', 'pitch_11'],\n",
    " 'Bbm': ['pitch_2', 'pitch_6', 'pitch_11'],\n",
    " 'Bbm6': ['pitch_2', 'pitch_6', 'pitch_8', 'pitch_11'],\n",
    " 'DbM': ['pitch_2', 'pitch_6', 'pitch_9'],\n",
    " 'C_d7': ['pitch_1', 'pitch_4', 'pitch_7', 'pitch_11'],\n",
    " 'F#d7': ['pitch_1', 'pitch_4', 'pitch_7', 'pitch_10'],\n",
    " 'Abd': ['pitch_3', 'pitch_9', 'pitch_12'],\n",
    " 'Ebd': ['pitch_4', 'pitch_7', 'pitch_10'],\n",
    " 'Dbd7': ['pitch_2', 'pitch_5', 'pitch_8', 'pitch_11'],\n",
    " 'Dbd': ['pitch_2', 'pitch_5', 'pitch_8'],\n",
    " 'Bbd': ['pitch_2', 'pitch_5', 'pitch_11'],\n",
    " 'Dbm7': ['pitch_2', 'pitch_5', 'pitch_9', 'pitch_12'],\n",
    " 'Abm': ['pitch_4', 'pitch_9', 'pitch_12'],\n",
    " 'DbM7': ['pitch_2', 'pitch_6', 'pitch_9', 'pitch_12'],\n",
    " 'Dbm': ['pitch_2', 'pitch_5', 'pitch_9'],\n",
    " 'F#m6': ['pitch_2', 'pitch_4', 'pitch_7', 'pitch_10'],\n",
    " 'G#m': ['pitch_4', 'pitch_9', 'pitch_12'],\n",
    " 'B_d': ['pitch_3', 'pitch_6', 'pitch_12'],\n",
    " 'C_M6': ['pitch_1', 'pitch_5', 'pitch_8', 'pitch_10'],\n",
    " 'D#m': ['pitch_4', 'pitch_7', 'pitch_9', 'pitch_11'],\n",
    " 'D#M': ['pitch_4', 'pitch_7', 'pitch_9', 'pitch_11'],\n",
    " 'BbM7': ['pitch_3', 'pitch_6', 'pitch_9', 'pitch_11'],\n",
    " 'F_d7': ['pitch_3', 'pitch_6', 'pitch_9', 'pitch_12'],\n",
    " 'C#d6': ['pitch_2', 'pitch_5', 'pitch_8', 'pitch_11'],\n",
    " 'G_d': ['pitch_2', 'pitch_8', 'pitch_11'],\n",
    " 'G#M': ['pitch_1', 'pitch_4', 'pitch_9'],\n",
    " 'C#M4': ['pitch_2', 'pitch_7', 'pitch_9', 'pitch_12'],\n",
    " 'D#d6': ['pitch_1', 'pitch_4', 'pitch_7', 'pitch_10'],\n",
    " 'D#d7': ['pitch_1', 'pitch_4', 'pitch_7', 'pitch_10']}"
   ]
  },
  {
   "cell_type": "code",
   "execution_count": 7,
   "metadata": {},
   "outputs": [],
   "source": [
    "# Takes in a list of the pitch values from 1-12 and returns the converted MIDI note numbers\n",
    "def get_midi_notes(pitch_values):\n",
    "    a = []\n",
    "    for i in pitch_values:\n",
    "        a.append(midi_note_converter[i])\n",
    "    return a"
   ]
  },
  {
   "cell_type": "code",
   "execution_count": 8,
   "metadata": {},
   "outputs": [],
   "source": [
    "# old pitch values\n",
    "# pitch_values = {\"F_m\":[1, 6, 11],\n",
    "# \"F_m7\":[1, 4, 8, 10],\n",
    "# \"Bbm6\":[2, 6, 8, 11],\n",
    "# \"AbM\":[1, 4, 9],\n",
    "# \"DbM\":[2, 6, 9],\n",
    "# 'C#m':[2, 4, 5, 9],\n",
    "# \"F#M7\":[2, 5, 7, 11],\n",
    "# \"B_m\":[3, 7, 8, 12],\n",
    "# \"F#M\":[2, 7, 11],\n",
    "# \"E_M7\":[3, 5, 7, 10],\n",
    "# \"A_M\":[2, 5, 10],\n",
    "# \"D_M\":[3, 7, 10],\n",
    "# \"G_M\":[3, 8, 12],\n",
    "# \"C_M\":[1, 5, 8]}"
   ]
  },
  {
   "cell_type": "code",
   "execution_count": 9,
   "metadata": {},
   "outputs": [],
   "source": [
    "# Convert the pitch values to their midi note numbers\n",
    "for i in pitch_values:\n",
    "    pitch_values[i] = get_midi_notes(pitch_values[i])"
   ]
  },
  {
   "cell_type": "code",
   "execution_count": 25,
   "metadata": {},
   "outputs": [],
   "source": [
    "midi_numbers = pitch_values"
   ]
  },
  {
   "cell_type": "code",
   "execution_count": 11,
   "metadata": {},
   "outputs": [],
   "source": [
    "# Chords generated from Mikayla's code\n",
    "generated_chord_sequence = ['C_M',\n",
    " 'F_m',\n",
    " 'F_m7',\n",
    " 'Bbm6',\n",
    " 'Bbm6',\n",
    " 'Bbm6',\n",
    " 'Bbm6',\n",
    " 'AbM',\n",
    " 'DbM',\n",
    " 'Bbm6',\n",
    " 'Bbm6',\n",
    " 'AbM',\n",
    " 'C#m',\n",
    " 'C#m',\n",
    " 'C#m',\n",
    " 'C#m',\n",
    " 'F#M7',\n",
    " 'F#M7',\n",
    " 'F#M7',\n",
    " 'B_m',\n",
    " 'F#M',\n",
    " 'F#M',\n",
    " 'F#M',\n",
    " 'F#M',\n",
    " 'B_m',\n",
    " 'E_M7',\n",
    " 'A_M',\n",
    " 'D_M',\n",
    " 'G_M',\n",
    " 'C_M']"
   ]
  },
  {
   "cell_type": "code",
   "execution_count": 26,
   "metadata": {
    "scrolled": true
   },
   "outputs": [],
   "source": [
    "# Sanity check to see if the generated chord sequence (and pitch values) were properly converted\n",
    "def midi_numbers_list(chord_sequence):\n",
    "    a = []\n",
    "    for i in chord_sequence:\n",
    "        a.append(midi_numbers[i])\n",
    "    return a"
   ]
  },
  {
   "cell_type": "markdown",
   "metadata": {},
   "source": [
    "------\n",
    "bass note conversion"
   ]
  },
  {
   "cell_type": "code",
   "execution_count": 13,
   "metadata": {},
   "outputs": [],
   "source": [
    "# C4\n",
    "bass_converter = {'C': 60, \n",
    "                 'D': 62,\n",
    "                 'E': 64,\n",
    "                 'F': 65,\n",
    "                 'G': 67,\n",
    "                 'A': 69,\n",
    "                 'B': 71,\n",
    "                 'Bb': 70,\n",
    "                 'F#': 66,\n",
    "                 'C#': 61,\n",
    "                 'Eb': 63,\n",
    "                 'D#': 63,\n",
    "                 'G#': 68,\n",
    "                 'A#': 70,\n",
    "                 'Ab': 68,\n",
    "                 'Db': 61 \n",
    "                 }\n",
    "# starting with C2\n",
    "lower_octave_bass_converter = {'C': 36, \n",
    "                             'D': 38,\n",
    "                             'E': 40,\n",
    "                             'F': 41,\n",
    "                             'G': 43,\n",
    "                             'A': 45,\n",
    "                             'B': 47,\n",
    "                             'Bb': 46,\n",
    "                             'F#': 42,\n",
    "                             'C#': 37,\n",
    "                             'Eb': 39,\n",
    "                             'D#': 39,\n",
    "                             'G#': 44,\n",
    "                             'A#': 46,\n",
    "                             'Ab': 44,\n",
    "                             'Db': 37  \n",
    "}"
   ]
  },
  {
   "cell_type": "code",
   "execution_count": 27,
   "metadata": {},
   "outputs": [],
   "source": [
    "# these three are generated from training on a single chorale (000106b_)\n",
    "chain = ['F_M', 'C_M', 'C_M', 'F_M', 'C_M4', 'C_M4', 'C_M4', 'C_M4', 'C_M4', 'C_M4', 'C_M', 'F_M', 'F_M', 'C_M', 'C_M', 'C_M', 'F_M', 'F_M', 'C_M', 'C_M']\n",
    "bass = ['F', 'E', 'E', 'E', 'E', 'E', 'F', 'F', 'G', 'C', 'F', 'F', 'G', 'A', 'B', 'C', 'C', 'C', 'F', 'F']\n",
    "meter = [3, 5, 2, 3, 2, 4, 2, 3, 2, 4, 2, 3, 2, 5, 2, 1, 3, 4, 5, 1]"
   ]
  },
  {
   "cell_type": "code",
   "execution_count": 28,
   "metadata": {},
   "outputs": [
    {
     "data": {
      "text/plain": [
       "[[60, 65, 69],\n",
       " [60, 64, 67],\n",
       " [60, 64, 67],\n",
       " [60, 65, 69],\n",
       " [60, 65, 67],\n",
       " [60, 65, 67],\n",
       " [60, 65, 67],\n",
       " [60, 65, 67],\n",
       " [60, 65, 67],\n",
       " [60, 65, 67],\n",
       " [60, 64, 67],\n",
       " [60, 65, 69],\n",
       " [60, 65, 69],\n",
       " [60, 64, 67],\n",
       " [60, 64, 67],\n",
       " [60, 64, 67],\n",
       " [60, 65, 69],\n",
       " [60, 65, 69],\n",
       " [60, 64, 67],\n",
       " [60, 64, 67]]"
      ]
     },
     "execution_count": 28,
     "metadata": {},
     "output_type": "execute_result"
    }
   ],
   "source": [
    "midi_numbers_final = midi_numbers_list(chain)\n",
    "midi_numbers_final"
   ]
  },
  {
   "cell_type": "code",
   "execution_count": 29,
   "metadata": {},
   "outputs": [
    {
     "data": {
      "text/plain": [
       "[41,\n",
       " 40,\n",
       " 40,\n",
       " 40,\n",
       " 40,\n",
       " 40,\n",
       " 41,\n",
       " 41,\n",
       " 43,\n",
       " 36,\n",
       " 41,\n",
       " 41,\n",
       " 43,\n",
       " 45,\n",
       " 47,\n",
       " 36,\n",
       " 36,\n",
       " 36,\n",
       " 41,\n",
       " 41]"
      ]
     },
     "execution_count": 29,
     "metadata": {},
     "output_type": "execute_result"
    }
   ],
   "source": [
    "bass_midi_notes = []\n",
    "for i in bass:\n",
    "    bass_midi_notes.append(lower_octave_bass_converter[i])\n",
    "bass_midi_notes"
   ]
  },
  {
   "cell_type": "code",
   "execution_count": 30,
   "metadata": {
    "scrolled": true
   },
   "outputs": [],
   "source": [
    "t = 0\n",
    "for i in midi_numbers_final:\n",
    "    for ind in range(len(i)):\n",
    "        MIDI.addNote(track, channel, i[ind], t, duration, volume)\n",
    "        MIDI.addNote(track, channel, bass_midi_notes[ind], t, meter[ind], volume)\n",
    "    t += 1"
   ]
  },
  {
   "cell_type": "code",
   "execution_count": 31,
   "metadata": {},
   "outputs": [],
   "source": [
    "with open(\"MIDI.mid\", 'wb') as output_file:\n",
    "    MIDI.writeFile(output_file)"
   ]
  },
  {
   "cell_type": "code",
   "execution_count": null,
   "metadata": {},
   "outputs": [],
   "source": []
  }
 ],
 "metadata": {
  "kernelspec": {
   "display_name": "Python 3",
   "language": "python",
   "name": "python3"
  },
  "language_info": {
   "codemirror_mode": {
    "name": "ipython",
    "version": 3
   },
   "file_extension": ".py",
   "mimetype": "text/x-python",
   "name": "python",
   "nbconvert_exporter": "python",
   "pygments_lexer": "ipython3",
   "version": "3.8.3"
  }
 },
 "nbformat": 4,
 "nbformat_minor": 4
}
