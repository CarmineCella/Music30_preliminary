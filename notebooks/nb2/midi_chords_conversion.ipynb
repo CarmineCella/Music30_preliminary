{
 "cells": [
  {
   "cell_type": "code",
   "execution_count": 3,
   "metadata": {},
   "outputs": [
    {
     "name": "stdout",
     "output_type": "stream",
     "text": [
      "Collecting midiutil\n",
      "\u001b[?25l  Downloading https://files.pythonhosted.org/packages/f5/44/fde6772d8bfaea64fcf5eb948124d0a5fdf5f848b14ac22a23ced53e562d/MIDIUtil-1.2.1.tar.gz (1.0MB)\n",
      "\u001b[K     |████████████████████████████████| 1.0MB 2.4MB/s eta 0:00:01\n",
      "\u001b[?25hBuilding wheels for collected packages: midiutil\n",
      "  Building wheel for midiutil (setup.py) ... \u001b[?25ldone\n",
      "\u001b[?25h  Stored in directory: /Users/split/Library/Caches/pip/wheels/70/f1/24/97bde012f64820632e1e5e2935df19dfbcf9e058b0734b57cd\n",
      "Successfully built midiutil\n",
      "Installing collected packages: midiutil\n",
      "Successfully installed midiutil-1.2.1\n"
     ]
    }
   ],
   "source": [
    "!pip install midiutil"
   ]
  },
  {
   "cell_type": "code",
   "execution_count": 14,
   "metadata": {},
   "outputs": [],
   "source": [
    "from midiutil import MIDIFile"
   ]
  },
  {
   "cell_type": "code",
   "execution_count": 15,
   "metadata": {},
   "outputs": [],
   "source": [
    "track = 0\n",
    "channel = 0\n",
    "time = 0 \n",
    "duration = 1\n",
    "tempo = 60\n",
    "volume = 100"
   ]
  },
  {
   "cell_type": "code",
   "execution_count": 16,
   "metadata": {},
   "outputs": [],
   "source": [
    "def addNote(pitch, track=0, channel=0, time=0, duration=1, volume=80):\n",
    "    MIDI.addNote(track, channel, pitch, time, duration, volume)"
   ]
  },
  {
   "cell_type": "code",
   "execution_count": 17,
   "metadata": {},
   "outputs": [],
   "source": [
    "MIDI = MIDIFile(1)\n",
    "MIDI.addTempo(track, time, tempo)"
   ]
  },
  {
   "cell_type": "markdown",
   "metadata": {},
   "source": [
    "Data dictionary to convert the pitch number to MIDI note number - based on the bach choral dataset."
   ]
  },
  {
   "cell_type": "code",
   "execution_count": 18,
   "metadata": {},
   "outputs": [],
   "source": [
    "# key = pitch\n",
    "# value = MIDI note number\n",
    "midi_note_converter = {1:60,\n",
    "             2:61,\n",
    "             3:62,\n",
    "             4:63,\n",
    "             5:64,\n",
    "             6:65,\n",
    "             7:66,\n",
    "             8:67,\n",
    "             9:68,\n",
    "             10:69,\n",
    "             11:70,\n",
    "             12:71}"
   ]
  },
  {
   "cell_type": "code",
   "execution_count": 19,
   "metadata": {},
   "outputs": [],
   "source": [
    "# Takes in a list of the pitch values from 1-12 and returns the converted MIDI note numbers\n",
    "def get_midi_notes(pitch_values):\n",
    "    a = []\n",
    "    for i in pitch_values:\n",
    "        a.append(midi_note_converter[i])\n",
    "    return a"
   ]
  },
  {
   "cell_type": "code",
   "execution_count": 20,
   "metadata": {},
   "outputs": [],
   "source": [
    "pitch_values = {\"F_m\":[1, 6, 11],\n",
    "\"F_m7\":[1, 4, 8, 10],\n",
    "\"Bbm6\":[2, 6, 8, 11],\n",
    "\"AbM\":[1, 4, 9],\n",
    "\"DbM\":[2, 6, 9],\n",
    "'C#m':[2, 4, 5, 9],\n",
    "\"F#M7\":[2, 5, 7, 11],\n",
    "\"B_m\":[3, 7, 8, 12],\n",
    "\"F#M\":[2, 7, 11],\n",
    "\"E_M7\":[3, 5, 7, 10],\n",
    "\"A_M\":[2, 5, 10],\n",
    "\"D_M\":[3, 7, 10],\n",
    "\"G_M\":[3, 8, 12],\n",
    "\"C_M\":[1, 5, 8]}"
   ]
  },
  {
   "cell_type": "code",
   "execution_count": 21,
   "metadata": {},
   "outputs": [],
   "source": [
    "# Convert the pitch values to their midi note numbers\n",
    "for i in pitch_values:\n",
    "    pitch_values[i] = get_midi_notes(pitch_values[i])"
   ]
  },
  {
   "cell_type": "code",
   "execution_count": 22,
   "metadata": {},
   "outputs": [
    {
     "data": {
      "text/plain": [
       "{'F_m': [60, 65, 70],\n",
       " 'F_m7': [60, 63, 67, 69],\n",
       " 'Bbm6': [61, 65, 67, 70],\n",
       " 'AbM': [60, 63, 68],\n",
       " 'DbM': [61, 65, 68],\n",
       " 'C#m': [61, 63, 64, 68],\n",
       " 'F#M7': [61, 64, 66, 70],\n",
       " 'B_m': [62, 66, 67, 71],\n",
       " 'F#M': [61, 66, 70],\n",
       " 'E_M7': [62, 64, 66, 69],\n",
       " 'A_M': [61, 64, 69],\n",
       " 'D_M': [62, 66, 69],\n",
       " 'G_M': [62, 67, 71],\n",
       " 'C_M': [60, 64, 67]}"
      ]
     },
     "execution_count": 22,
     "metadata": {},
     "output_type": "execute_result"
    }
   ],
   "source": [
    "midi_numbers = pitch_values\n",
    "midi_numbers"
   ]
  },
  {
   "cell_type": "code",
   "execution_count": 23,
   "metadata": {},
   "outputs": [],
   "source": [
    "# Chords generated from Mikayla's code\n",
    "generated_chord_sequence = ['C_M',\n",
    " 'F_m',\n",
    " 'F_m7',\n",
    " 'Bbm6',\n",
    " 'Bbm6',\n",
    " 'Bbm6',\n",
    " 'Bbm6',\n",
    " 'AbM',\n",
    " 'DbM',\n",
    " 'Bbm6',\n",
    " 'Bbm6',\n",
    " 'AbM',\n",
    " 'C#m',\n",
    " 'C#m',\n",
    " 'C#m',\n",
    " 'C#m',\n",
    " 'F#M7',\n",
    " 'F#M7',\n",
    " 'F#M7',\n",
    " 'B_m',\n",
    " 'F#M',\n",
    " 'F#M',\n",
    " 'F#M',\n",
    " 'F#M',\n",
    " 'B_m',\n",
    " 'E_M7',\n",
    " 'A_M',\n",
    " 'D_M',\n",
    " 'G_M',\n",
    " 'C_M']"
   ]
  },
  {
   "cell_type": "code",
   "execution_count": 33,
   "metadata": {},
   "outputs": [
    {
     "data": {
      "text/plain": [
       "[[60, 64, 67],\n",
       " [60, 65, 70],\n",
       " [60, 63, 67, 69],\n",
       " [61, 65, 67, 70],\n",
       " [61, 65, 67, 70],\n",
       " [61, 65, 67, 70],\n",
       " [61, 65, 67, 70],\n",
       " [60, 63, 68],\n",
       " [61, 65, 68],\n",
       " [61, 65, 67, 70],\n",
       " [61, 65, 67, 70],\n",
       " [60, 63, 68],\n",
       " [61, 63, 64, 68],\n",
       " [61, 63, 64, 68],\n",
       " [61, 63, 64, 68],\n",
       " [61, 63, 64, 68],\n",
       " [61, 64, 66, 70],\n",
       " [61, 64, 66, 70],\n",
       " [61, 64, 66, 70],\n",
       " [62, 66, 67, 71],\n",
       " [61, 66, 70],\n",
       " [61, 66, 70],\n",
       " [61, 66, 70],\n",
       " [61, 66, 70],\n",
       " [62, 66, 67, 71],\n",
       " [62, 64, 66, 69],\n",
       " [61, 64, 69],\n",
       " [62, 66, 69],\n",
       " [62, 67, 71],\n",
       " [60, 64, 67]]"
      ]
     },
     "execution_count": 33,
     "metadata": {},
     "output_type": "execute_result"
    }
   ],
   "source": [
    "# Sanity check to see if the generated chord sequence (and pitch values) were properly converted\n",
    "def midi_numbers_list(chord_sequence):\n",
    "    a = []\n",
    "    for i in chord_sequence:\n",
    "        a.append(midi_numbers[i])\n",
    "    return a\n",
    "midi_numbers_final = midi_numbers_list(generated_chord_sequence)\n",
    "midi_numbers_final"
   ]
  },
  {
   "cell_type": "code",
   "execution_count": 12,
   "metadata": {},
   "outputs": [],
   "source": [
    "t = 0\n",
    "for i in midi_numbers_final:\n",
    "    for ind in range(len(i)):\n",
    "        MIDI.addNote(track, channel, i[ind], t, duration, volume)\n",
    "    \n",
    "    t += 1"
   ]
  },
  {
   "cell_type": "code",
   "execution_count": 13,
   "metadata": {},
   "outputs": [],
   "source": [
    "with open(\"MIDI.mid\", 'wb') as output_file:\n",
    "    MIDI.writeFile(output_file)"
   ]
  },
  {
   "cell_type": "markdown",
   "metadata": {},
   "source": [
    "------\n",
    "bass note conversion"
   ]
  },
  {
   "cell_type": "code",
   "execution_count": 28,
   "metadata": {},
   "outputs": [],
   "source": [
    "# C4\n",
    "bass_converter = {'C': 60, \n",
    "                 'D': 62,\n",
    "                 'E': 64,\n",
    "                 'F': 65,\n",
    "                 'G': 67,\n",
    "                 'A': 69,\n",
    "                 'B': 71\n",
    "                 }\n",
    "# starting with C2\n",
    "lower_octave_bass_converter = {'C': 36, \n",
    "                             'D': 38,\n",
    "                             'E': 40,\n",
    "                             'F': 41,\n",
    "                             'G': 43,\n",
    "                             'A': 45,\n",
    "                             'B': 47\n",
    "}"
   ]
  },
  {
   "cell_type": "code",
   "execution_count": 30,
   "metadata": {},
   "outputs": [],
   "source": [
    "# these three are generated from training on a single chorale (000106b_)\n",
    "chain = ['F_M', 'C_M', 'C_M', 'F_M', 'C_M4', 'C_M4', 'C_M4', 'C_M4', 'C_M4', 'C_M4', 'C_M', 'F_M', 'F_M', 'C_M', 'C_M', 'C_M', 'F_M', 'F_M', 'C_M', 'C_M']\n",
    "bass= ['F', 'E', 'E', 'E', 'E', 'E', 'F', 'F', 'G', 'C', 'F', 'F', 'G', 'A', 'B', 'C', 'C', 'C', 'F', 'F']\n",
    "meter = ['3', '5', '2', '3', '2', '4', '2', '3', '2', '4', '2', '3', '2', '5', '2', '1', '3', '4', '5', '1']\n"
   ]
  },
  {
   "cell_type": "code",
   "execution_count": 34,
   "metadata": {},
   "outputs": [
    {
     "data": {
      "text/plain": [
       "[41,\n",
       " 40,\n",
       " 40,\n",
       " 40,\n",
       " 40,\n",
       " 40,\n",
       " 41,\n",
       " 41,\n",
       " 43,\n",
       " 36,\n",
       " 41,\n",
       " 41,\n",
       " 43,\n",
       " 45,\n",
       " 47,\n",
       " 36,\n",
       " 36,\n",
       " 36,\n",
       " 41,\n",
       " 41]"
      ]
     },
     "execution_count": 34,
     "metadata": {},
     "output_type": "execute_result"
    }
   ],
   "source": [
    "bass_midi_notes = []\n",
    "for i in bass:\n",
    "    bass_midi_notes.append(lower_octave_bass_converter[i])\n",
    "bass_midi_notes"
   ]
  },
  {
   "cell_type": "code",
   "execution_count": 35,
   "metadata": {},
   "outputs": [
    {
     "ename": "KeyError",
     "evalue": "'F_M'",
     "output_type": "error",
     "traceback": [
      "\u001b[0;31m---------------------------------------------------------------------------\u001b[0m",
      "\u001b[0;31mKeyError\u001b[0m                                  Traceback (most recent call last)",
      "\u001b[0;32m<ipython-input-35-d41fb9ffdf73>\u001b[0m in \u001b[0;36m<module>\u001b[0;34m\u001b[0m\n\u001b[0;32m----> 1\u001b[0;31m \u001b[0mchord_sequence_single\u001b[0m \u001b[0;34m=\u001b[0m \u001b[0mmidi_numbers_list\u001b[0m\u001b[0;34m(\u001b[0m\u001b[0mchain\u001b[0m\u001b[0;34m)\u001b[0m\u001b[0;34m\u001b[0m\u001b[0;34m\u001b[0m\u001b[0m\n\u001b[0m",
      "\u001b[0;32m<ipython-input-33-91b9bd85bc90>\u001b[0m in \u001b[0;36mmidi_numbers_list\u001b[0;34m(chord_sequence)\u001b[0m\n\u001b[1;32m      3\u001b[0m     \u001b[0ma\u001b[0m \u001b[0;34m=\u001b[0m \u001b[0;34m[\u001b[0m\u001b[0;34m]\u001b[0m\u001b[0;34m\u001b[0m\u001b[0;34m\u001b[0m\u001b[0m\n\u001b[1;32m      4\u001b[0m     \u001b[0;32mfor\u001b[0m \u001b[0mi\u001b[0m \u001b[0;32min\u001b[0m \u001b[0mchord_sequence\u001b[0m\u001b[0;34m:\u001b[0m\u001b[0;34m\u001b[0m\u001b[0;34m\u001b[0m\u001b[0m\n\u001b[0;32m----> 5\u001b[0;31m         \u001b[0ma\u001b[0m\u001b[0;34m.\u001b[0m\u001b[0mappend\u001b[0m\u001b[0;34m(\u001b[0m\u001b[0mmidi_numbers\u001b[0m\u001b[0;34m[\u001b[0m\u001b[0mi\u001b[0m\u001b[0;34m]\u001b[0m\u001b[0;34m)\u001b[0m\u001b[0;34m\u001b[0m\u001b[0;34m\u001b[0m\u001b[0m\n\u001b[0m\u001b[1;32m      6\u001b[0m     \u001b[0;32mreturn\u001b[0m \u001b[0ma\u001b[0m\u001b[0;34m\u001b[0m\u001b[0;34m\u001b[0m\u001b[0m\n\u001b[1;32m      7\u001b[0m \u001b[0mmidi_numbers_final\u001b[0m \u001b[0;34m=\u001b[0m \u001b[0mmidi_numbers_list\u001b[0m\u001b[0;34m(\u001b[0m\u001b[0mgenerated_chord_sequence\u001b[0m\u001b[0;34m)\u001b[0m\u001b[0;34m\u001b[0m\u001b[0;34m\u001b[0m\u001b[0m\n",
      "\u001b[0;31mKeyError\u001b[0m: 'F_M'"
     ]
    }
   ],
   "source": [
    "chord_sequence_single = midi_numbers_list(chain)"
   ]
  },
  {
   "cell_type": "code",
   "execution_count": null,
   "metadata": {},
   "outputs": [],
   "source": []
  }
 ],
 "metadata": {
  "kernelspec": {
   "display_name": "Python 3",
   "language": "python",
   "name": "python3"
  },
  "language_info": {
   "codemirror_mode": {
    "name": "ipython",
    "version": 3
   },
   "file_extension": ".py",
   "mimetype": "text/x-python",
   "name": "python",
   "nbconvert_exporter": "python",
   "pygments_lexer": "ipython3",
   "version": "3.7.3"
  }
 },
 "nbformat": 4,
 "nbformat_minor": 4
}
